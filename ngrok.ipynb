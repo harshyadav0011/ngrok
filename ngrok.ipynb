{
 "cells": [
  {
   "cell_type": "code",
   "execution_count": null,
   "metadata": {},
   "outputs": [],
   "source": [
    "!python3 -m pip install notebook\n",
    " \n",
    "!wget https://bin.equinox.io/c/bNyj1mQVY4c/ngrok-v3-stable-linux-amd64.tgz\n",
    " \n",
    "!tar -xvf ngrok-v3-stable-linux-amd64.tgz\n",
    " \n",
    "!./ngrok authtoken 2e60NJOb912y1wsDEthGT20gzp3_4oVVeL6SzRs2NKnD9UiAb\n",
    " \n",
    "!./ngrok http 8888 & python3 -m notebook --allow-root"
   ]
  }
 ],
 "metadata": {
  "language_info": {
   "name": "python"
  }
 },
 "nbformat": 4,
 "nbformat_minor": 2
}
